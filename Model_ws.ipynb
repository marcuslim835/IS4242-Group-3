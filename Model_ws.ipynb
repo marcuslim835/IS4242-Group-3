{
 "cells": [
  {
   "cell_type": "code",
   "execution_count": 14,
   "metadata": {},
   "outputs": [],
   "source": [
    "import librosa\n",
    "import librosa.display\n",
    "import matplotlib.pyplot as plt\n",
    "import numpy as np\n",
    "import os\n",
    "import pandas as pd\n",
    "import seaborn as sns\n",
    "import warnings\n",
    "\n",
    "from IPython.display import Audio\n",
    "from sklearn.ensemble import RandomForestClassifier\n",
    "from sklearn.metrics import accuracy_score, precision_score, recall_score, f1_score, confusion_matrix\n",
    "from sklearn.model_selection import train_test_split\n",
    "from sklearn.neighbors import KNeighborsClassifier\n",
    "from sklearn.neural_network import MLPClassifier\n",
    "from sklearn.svm import SVC\n",
    "\n",
    "warnings.filterwarnings('ignore')"
   ]
  },
  {
   "cell_type": "markdown",
   "metadata": {},
   "source": [
    "### Load Data (taken form marcus's code)"
   ]
  },
  {
   "cell_type": "code",
   "execution_count": 4,
   "metadata": {},
   "outputs": [
    {
     "data": {
      "text/html": [
       "<div>\n",
       "<style scoped>\n",
       "    .dataframe tbody tr th:only-of-type {\n",
       "        vertical-align: middle;\n",
       "    }\n",
       "\n",
       "    .dataframe tbody tr th {\n",
       "        vertical-align: top;\n",
       "    }\n",
       "\n",
       "    .dataframe thead th {\n",
       "        text-align: right;\n",
       "    }\n",
       "</style>\n",
       "<table border=\"1\" class=\"dataframe\">\n",
       "  <thead>\n",
       "    <tr style=\"text-align: right;\">\n",
       "      <th></th>\n",
       "      <th>file_path</th>\n",
       "      <th>emotion</th>\n",
       "      <th>label</th>\n",
       "    </tr>\n",
       "  </thead>\n",
       "  <tbody>\n",
       "    <tr>\n",
       "      <th>0</th>\n",
       "      <td>data\\Angry_Female\\anger_xn_1.wav</td>\n",
       "      <td>angry</td>\n",
       "      <td>4</td>\n",
       "    </tr>\n",
       "    <tr>\n",
       "      <th>1</th>\n",
       "      <td>data\\Angry_Female\\anger_xn_10.wav</td>\n",
       "      <td>angry</td>\n",
       "      <td>4</td>\n",
       "    </tr>\n",
       "    <tr>\n",
       "      <th>2</th>\n",
       "      <td>data\\Angry_Female\\anger_xn_11.wav</td>\n",
       "      <td>angry</td>\n",
       "      <td>4</td>\n",
       "    </tr>\n",
       "    <tr>\n",
       "      <th>3</th>\n",
       "      <td>data\\Angry_Female\\anger_xn_12.wav</td>\n",
       "      <td>angry</td>\n",
       "      <td>4</td>\n",
       "    </tr>\n",
       "    <tr>\n",
       "      <th>4</th>\n",
       "      <td>data\\Angry_Female\\anger_xn_13.wav</td>\n",
       "      <td>angry</td>\n",
       "      <td>4</td>\n",
       "    </tr>\n",
       "  </tbody>\n",
       "</table>\n",
       "</div>"
      ],
      "text/plain": [
       "                           file_path emotion  label\n",
       "0   data\\Angry_Female\\anger_xn_1.wav   angry      4\n",
       "1  data\\Angry_Female\\anger_xn_10.wav   angry      4\n",
       "2  data\\Angry_Female\\anger_xn_11.wav   angry      4\n",
       "3  data\\Angry_Female\\anger_xn_12.wav   angry      4\n",
       "4  data\\Angry_Female\\anger_xn_13.wav   angry      4"
      ]
     },
     "execution_count": 4,
     "metadata": {},
     "output_type": "execute_result"
    }
   ],
   "source": [
    "emotions_key = {\n",
    "    \"neutral\": 1,\n",
    "    \"happy\": 2,\n",
    "    \"sad\": 3,\n",
    "    \"angry\": 4\n",
    "}\n",
    "\n",
    "paths = []\n",
    "emotions = []\n",
    "labels = []\n",
    "\n",
    "# Use os.walk to walk through the directory structure\n",
    "for dirname, _, filenames in os.walk(r'data'):\n",
    "    for filename in filenames:\n",
    "        if filename == '.DS_Store':\n",
    "            continue  # Skip this file\n",
    "        # Construct the full file path\n",
    "        full_path = os.path.join(dirname, filename)\n",
    "        paths.append(full_path)\n",
    "        \n",
    "        # Extract label and gender from the directory name\n",
    "        # Assumes the structure is data/label_gender/filename\n",
    "        folder_name = os.path.basename(dirname)\n",
    "        label = folder_name\n",
    "        emotion = label.split('_')[0]\n",
    "        emotions.append(emotion.lower())\n",
    "        labels.append(emotions_key[emotion.lower()])\n",
    "\n",
    "# Create a DataFrame with the collected data\n",
    "df = pd.DataFrame({\n",
    "    'file_path': paths,\n",
    "    'emotion': emotions,\n",
    "    'label': labels,\n",
    "})\n",
    "\n",
    "# Display the first few rows of the DataFrame to verify\n",
    "df.head()"
   ]
  },
  {
   "cell_type": "markdown",
   "metadata": {},
   "source": [
    "### Feature Engineering"
   ]
  },
  {
   "cell_type": "code",
   "execution_count": 5,
   "metadata": {},
   "outputs": [],
   "source": [
    "def extract_feature(file_path, **kwargs):\n",
    "    \"\"\"\n",
    "    Extract features from audio file `file_path`\n",
    "        Features:\n",
    "            - MFCC (mfcc)\n",
    "            - Chroma (chroma)\n",
    "            - MEL Spectrogram Frequency (mel)\n",
    "            - Contrast (contrast)\n",
    "            - Tonnetz (tonnetz)\n",
    "        e.g:\n",
    "        `features = extract_feature(path, mel=True, mfcc=True)`\n",
    "    \"\"\"\n",
    "    mfcc = kwargs.get(\"mfcc\")\n",
    "    chroma = kwargs.get(\"chroma\")\n",
    "    mel = kwargs.get(\"mel\")\n",
    "    contrast = kwargs.get(\"contrast\")\n",
    "    tonnetz = kwargs.get(\"tonnetz\")\n",
    "    try:\n",
    "        X, sample_rate = librosa.load(file_path, duration=3, offset=0.5)\n",
    "        result = np.array([])   # values for all features stored in a single array\n",
    "        result_dict = {}    # values of each feature\n",
    "        if chroma or contrast:\n",
    "            stft = np.abs(librosa.stft(X))\n",
    "        if mfcc:\n",
    "            mfccs = np.mean(librosa.feature.mfcc(y=X, sr=sample_rate, n_mfcc=40).T, axis=0)\n",
    "            result = np.hstack((result, mfccs))\n",
    "            result_dict['mfcc'] = mfccs\n",
    "        if chroma:\n",
    "            chroma = np.mean(librosa.feature.chroma_stft(S=stft, sr=sample_rate).T,axis=0)\n",
    "            result = np.hstack((result, chroma))\n",
    "            result_dict['chroma'] = chroma\n",
    "        if mel:\n",
    "            mel = np.mean(librosa.feature.melspectrogram(y=X, sr=sample_rate).T,axis=0)\n",
    "            result = np.hstack((result, mel))\n",
    "            result_dict['mel'] = mel\n",
    "        if contrast:\n",
    "            contrast = np.mean(librosa.feature.spectral_contrast(S=stft, sr=sample_rate).T,axis=0)\n",
    "            result = np.hstack((result, contrast))\n",
    "            result_dict['contrast'] = contrast\n",
    "        if tonnetz:\n",
    "            tonnetz = np.mean(librosa.feature.tonnetz(y=librosa.effects.harmonic(X), sr=sample_rate).T,axis=0)\n",
    "            result = np.hstack((result, tonnetz))\n",
    "            result_dict['tonnetz'] = tonnetz\n",
    "        return result, result_dict\n",
    "    except Exception as e:\n",
    "        print(e)\n",
    "\n",
    "extracted_features = {\n",
    "    \"mfcc\": True,\n",
    "    \"chroma\": True,\n",
    "    \"mel\": True,\n",
    "    \"contrast\": True,\n",
    "    \"tonnetz\": True\n",
    "}\n",
    "\n",
    "res, res_dict = extract_feature('data/Angry_Female/ws_anger_01.wav', **extracted_features)"
   ]
  },
  {
   "cell_type": "markdown",
   "metadata": {},
   "source": [
    "### Split in train, validation and test sets"
   ]
  },
  {
   "cell_type": "code",
   "execution_count": 6,
   "metadata": {},
   "outputs": [
    {
     "data": {
      "text/plain": [
       "503        data\\Sad_Female\\jt_sadness_13.wav\n",
       "651             data\\Sad_Male\\sad_xnm_38.wav\n",
       "172       data\\Happy_Female\\happy_xnj_30.wav\n",
       "337        data\\Happy_Male\\ml_happy_B-29.wav\n",
       "369    data\\Neutral_Female\\neutral_xn_10.wav\n",
       "                       ...                  \n",
       "155       data\\Angry_Male\\ml_angerery-22.wav\n",
       "42         data\\Angry_Female\\jt_anger_10.wav\n",
       "148       data\\Angry_Male\\ml_angerery-15.wav\n",
       "327        data\\Happy_Male\\ml_happy_B-19.wav\n",
       "407    data\\Neutral_Female\\ws_neutral_18.wav\n",
       "Name: file_path, Length: 471, dtype: object"
      ]
     },
     "execution_count": 6,
     "metadata": {},
     "output_type": "execute_result"
    }
   ],
   "source": [
    "X = df['file_path']\n",
    "y = df['label']\n",
    "\n",
    "# Separate into (train, val) and test sets\n",
    "train_val_X, test_X, train_val_y, test_y = train_test_split(X, y, test_size=0.1, random_state=4242)\n",
    "\n",
    "# Further split the (train, val) set into separate training and validation sets\n",
    "train_X, val_X, train_y, val_y = train_test_split(train_val_X, train_val_y, test_size=0.2, random_state=4242)\n",
    "train_X"
   ]
  },
  {
   "cell_type": "code",
   "execution_count": 7,
   "metadata": {},
   "outputs": [],
   "source": [
    "# Extract features for all files in training data\n",
    "def extract_features_from_df(df, **kwargs):\n",
    "    features = []\n",
    "    for path in df:\n",
    "        feature, feature_dict = extract_feature(path, **kwargs)\n",
    "        features.append(feature)\n",
    "    return features\n",
    "\n",
    "train_X_features = extract_features_from_df(train_X, **extracted_features)    "
   ]
  },
  {
   "cell_type": "code",
   "execution_count": 8,
   "metadata": {},
   "outputs": [
    {
     "name": "stdout",
     "output_type": "stream",
     "text": [
      "length: 471\n",
      "feature shape: (193,)\n"
     ]
    }
   ],
   "source": [
    "print(f'length: {len(train_X_features)}')\n",
    "print(f'feature shape: {train_X_features[0].shape}')"
   ]
  },
  {
   "cell_type": "markdown",
   "metadata": {},
   "source": [
    "### Model Training"
   ]
  },
  {
   "cell_type": "code",
   "execution_count": 9,
   "metadata": {},
   "outputs": [],
   "source": [
    "def calculate_metrics(y_true, y_pred):\n",
    "    accuracy = accuracy_score(y_true=y_true, y_pred=y_pred)\n",
    "    precision = precision_score(y_true=y_true, y_pred=y_pred, average='weighted')\n",
    "    recall = recall_score(y_true=y_true, y_pred=y_pred, average='weighted')\n",
    "    f1 = f1_score(y_true=y_true, y_pred=y_pred, average='weighted')\n",
    "    return accuracy, precision, recall, f1"
   ]
  },
  {
   "cell_type": "markdown",
   "metadata": {},
   "source": [
    "#### SVM"
   ]
  },
  {
   "cell_type": "code",
   "execution_count": 10,
   "metadata": {},
   "outputs": [
    {
     "data": {
      "text/html": [
       "<div>\n",
       "<style scoped>\n",
       "    .dataframe tbody tr th:only-of-type {\n",
       "        vertical-align: middle;\n",
       "    }\n",
       "\n",
       "    .dataframe tbody tr th {\n",
       "        vertical-align: top;\n",
       "    }\n",
       "\n",
       "    .dataframe thead th {\n",
       "        text-align: right;\n",
       "    }\n",
       "</style>\n",
       "<table border=\"1\" class=\"dataframe\">\n",
       "  <thead>\n",
       "    <tr style=\"text-align: right;\">\n",
       "      <th></th>\n",
       "      <th>Model</th>\n",
       "      <th>Accuracy</th>\n",
       "      <th>Precision</th>\n",
       "      <th>Recall</th>\n",
       "      <th>F1</th>\n",
       "    </tr>\n",
       "  </thead>\n",
       "  <tbody>\n",
       "    <tr>\n",
       "      <th>0</th>\n",
       "      <td>SVM</td>\n",
       "      <td>0.457627</td>\n",
       "      <td>0.526944</td>\n",
       "      <td>0.457627</td>\n",
       "      <td>0.443024</td>\n",
       "    </tr>\n",
       "  </tbody>\n",
       "</table>\n",
       "</div>"
      ],
      "text/plain": [
       "  Model  Accuracy  Precision    Recall        F1\n",
       "0   SVM  0.457627   0.526944  0.457627  0.443024"
      ]
     },
     "execution_count": 10,
     "metadata": {},
     "output_type": "execute_result"
    }
   ],
   "source": [
    "# Train SVM\n",
    "model_svm = SVC()\n",
    "model_svm.fit(train_X_features, train_y)\n",
    "\n",
    "# Hyperparameter tuning / Cross Validation maybe\n",
    "\n",
    "# Predit on validation set\n",
    "val_X_features = extract_features_from_df(val_X, **extracted_features)\n",
    "pred_val_y = model_svm.predict(val_X_features)\n",
    "\n",
    "# Evaluate metrics\n",
    "svm_accuracy, svm_precision, svm_recall, svm_f1 = calculate_metrics(val_y, pred_val_y)\n",
    "\n",
    "results_df = pd.DataFrame({\n",
    "    'Model': ['SVM'],\n",
    "    'Accuracy': [svm_accuracy],\n",
    "    'Precision': [svm_precision],\n",
    "    'Recall': [svm_recall],\n",
    "    'F1': [svm_f1]\n",
    "})\n",
    "results_df"
   ]
  },
  {
   "cell_type": "markdown",
   "metadata": {},
   "source": [
    "#### Random Forest"
   ]
  },
  {
   "cell_type": "code",
   "execution_count": 11,
   "metadata": {},
   "outputs": [
    {
     "data": {
      "text/html": [
       "<div>\n",
       "<style scoped>\n",
       "    .dataframe tbody tr th:only-of-type {\n",
       "        vertical-align: middle;\n",
       "    }\n",
       "\n",
       "    .dataframe tbody tr th {\n",
       "        vertical-align: top;\n",
       "    }\n",
       "\n",
       "    .dataframe thead th {\n",
       "        text-align: right;\n",
       "    }\n",
       "</style>\n",
       "<table border=\"1\" class=\"dataframe\">\n",
       "  <thead>\n",
       "    <tr style=\"text-align: right;\">\n",
       "      <th></th>\n",
       "      <th>Model</th>\n",
       "      <th>Accuracy</th>\n",
       "      <th>Precision</th>\n",
       "      <th>Recall</th>\n",
       "      <th>F1</th>\n",
       "    </tr>\n",
       "  </thead>\n",
       "  <tbody>\n",
       "    <tr>\n",
       "      <th>0</th>\n",
       "      <td>SVM</td>\n",
       "      <td>0.457627</td>\n",
       "      <td>0.526944</td>\n",
       "      <td>0.457627</td>\n",
       "      <td>0.443024</td>\n",
       "    </tr>\n",
       "    <tr>\n",
       "      <th>1</th>\n",
       "      <td>RandomForestClassifier</td>\n",
       "      <td>0.881356</td>\n",
       "      <td>0.894307</td>\n",
       "      <td>0.881356</td>\n",
       "      <td>0.883557</td>\n",
       "    </tr>\n",
       "  </tbody>\n",
       "</table>\n",
       "</div>"
      ],
      "text/plain": [
       "                    Model  Accuracy  Precision    Recall        F1\n",
       "0                     SVM  0.457627   0.526944  0.457627  0.443024\n",
       "1  RandomForestClassifier  0.881356   0.894307  0.881356  0.883557"
      ]
     },
     "execution_count": 11,
     "metadata": {},
     "output_type": "execute_result"
    }
   ],
   "source": [
    "# Train RandomForestClassifier\n",
    "model_rfc = RandomForestClassifier(max_depth=50, random_state=4242)\n",
    "model_rfc.fit(train_X_features, train_y)\n",
    "\n",
    "# Predict on validation set\n",
    "pred_val_y = model_rfc.predict(val_X_features)\n",
    "\n",
    "# Evaluate metrics\n",
    "# Evaluate metrics\n",
    "rfc_accuracy, rfc_precision, rfc_recall, rfc_f1 = calculate_metrics(val_y, pred_val_y)\n",
    "\n",
    "results_df = pd.DataFrame({\n",
    "    'Model': ['SVM', 'RandomForestClassifier'],\n",
    "    'Accuracy': [svm_accuracy, rfc_accuracy],\n",
    "    'Precision': [svm_precision, rfc_precision],\n",
    "    'Recall': [svm_recall, rfc_recall],\n",
    "    'F1': [svm_f1, rfc_f1]\n",
    "})\n",
    "results_df"
   ]
  },
  {
   "cell_type": "markdown",
   "metadata": {},
   "source": [
    "#### NN"
   ]
  },
  {
   "cell_type": "code",
   "execution_count": 17,
   "metadata": {},
   "outputs": [
    {
     "data": {
      "text/html": [
       "<div>\n",
       "<style scoped>\n",
       "    .dataframe tbody tr th:only-of-type {\n",
       "        vertical-align: middle;\n",
       "    }\n",
       "\n",
       "    .dataframe tbody tr th {\n",
       "        vertical-align: top;\n",
       "    }\n",
       "\n",
       "    .dataframe thead th {\n",
       "        text-align: right;\n",
       "    }\n",
       "</style>\n",
       "<table border=\"1\" class=\"dataframe\">\n",
       "  <thead>\n",
       "    <tr style=\"text-align: right;\">\n",
       "      <th></th>\n",
       "      <th>Model</th>\n",
       "      <th>Accuracy</th>\n",
       "      <th>Precision</th>\n",
       "      <th>Recall</th>\n",
       "      <th>F1</th>\n",
       "    </tr>\n",
       "  </thead>\n",
       "  <tbody>\n",
       "    <tr>\n",
       "      <th>0</th>\n",
       "      <td>SVM</td>\n",
       "      <td>0.457627</td>\n",
       "      <td>0.526944</td>\n",
       "      <td>0.457627</td>\n",
       "      <td>0.443024</td>\n",
       "    </tr>\n",
       "    <tr>\n",
       "      <th>1</th>\n",
       "      <td>RandomForestClassifier</td>\n",
       "      <td>0.881356</td>\n",
       "      <td>0.894307</td>\n",
       "      <td>0.881356</td>\n",
       "      <td>0.883557</td>\n",
       "    </tr>\n",
       "    <tr>\n",
       "      <th>2</th>\n",
       "      <td>MLPClassifier</td>\n",
       "      <td>0.805085</td>\n",
       "      <td>0.816679</td>\n",
       "      <td>0.805085</td>\n",
       "      <td>0.803303</td>\n",
       "    </tr>\n",
       "  </tbody>\n",
       "</table>\n",
       "</div>"
      ],
      "text/plain": [
       "                    Model  Accuracy  Precision    Recall        F1\n",
       "0                     SVM  0.457627   0.526944  0.457627  0.443024\n",
       "1  RandomForestClassifier  0.881356   0.894307  0.881356  0.883557\n",
       "2           MLPClassifier  0.805085   0.816679  0.805085  0.803303"
      ]
     },
     "execution_count": 17,
     "metadata": {},
     "output_type": "execute_result"
    }
   ],
   "source": [
    "# Neural Network\n",
    "\n",
    "# Set hyperparameters\n",
    "hidden_layers = (300, 200, 100)\n",
    "solver = 'adam'\n",
    "# solver = 'lbfgs'\n",
    "max_iter = 200\n",
    "learning_rate = 'constant'\n",
    "learning_rate_init = 0.001\n",
    "\n",
    "# Train model\n",
    "model_nn = MLPClassifier(hidden_layer_sizes=hidden_layers, \n",
    "                         random_state=4242, \n",
    "                         solver=solver, \n",
    "                         max_iter=max_iter, \n",
    "                         learning_rate=learning_rate, \n",
    "                         learning_rate_init=learning_rate_init,\n",
    "                         early_stopping=True\n",
    "                    )\n",
    "model_nn.fit(train_X_features, train_y)\n",
    "\n",
    "# Predict on validation set\n",
    "pred_val_y = model_nn.predict(val_X_features)\n",
    "\n",
    "# Evaluate metrics\n",
    "nn_accuracy, nn_precision, nn_recall, nn_f1 = calculate_metrics(val_y, pred_val_y)\n",
    "\n",
    "results_df = pd.DataFrame({\n",
    "    'Model': ['SVM', 'RandomForestClassifier', 'MLPClassifier'],\n",
    "    'Accuracy': [svm_accuracy, rfc_accuracy, nn_accuracy],\n",
    "    'Precision': [svm_precision, rfc_precision, nn_precision],\n",
    "    'Recall': [svm_recall, rfc_recall, nn_recall],\n",
    "    'F1': [svm_f1, rfc_f1, nn_f1]\n",
    "})\n",
    "results_df"
   ]
  },
  {
   "cell_type": "code",
   "execution_count": 18,
   "metadata": {},
   "outputs": [
    {
     "data": {
      "image/png": "[encoded data removed]",
      "text/plain": [
       "<Figure size 640x480 with 1 Axes>"
      ]
     },
     "metadata": {},
     "output_type": "display_data"
    },
    {
     "data": {
      "image/png": "[encoded data removed]",
      "text/plain": [
       "<Figure size 640x480 with 1 Axes>"
      ]
     },
     "metadata": {},
     "output_type": "display_data"
    }
   ],
   "source": [
    "loss_curve = model_nn.loss_curve_\n",
    "accuracy_curve = model_nn.validation_scores_\n",
    "\n",
    "# Plot loss curve\n",
    "plt.plot(loss_curve, label='Loss')\n",
    "plt.xlabel('Epoch')\n",
    "plt.ylabel('Loss')\n",
    "plt.title('Loss Over Epochs')\n",
    "plt.legend()\n",
    "plt.show()\n",
    "\n",
    "# Plot accuracy curve\n",
    "plt.plot(accuracy_curve, label='Accuracy')\n",
    "plt.xlabel('Epoch')\n",
    "plt.ylabel('Accuracy')\n",
    "plt.title('Accuracy Over Epochs')\n",
    "plt.legend()\n",
    "plt.show()"
   ]
  },
  {
   "cell_type": "markdown",
   "metadata": {},
   "source": [
    "#### k Nearest Neighbors"
   ]
  },
  {
   "cell_type": "code",
   "execution_count": 15,
   "metadata": {},
   "outputs": [
    {
     "data": {
      "text/html": [
       "<div>\n",
       "<style scoped>\n",
       "    .dataframe tbody tr th:only-of-type {\n",
       "        vertical-align: middle;\n",
       "    }\n",
       "\n",
       "    .dataframe tbody tr th {\n",
       "        vertical-align: top;\n",
       "    }\n",
       "\n",
       "    .dataframe thead th {\n",
       "        text-align: right;\n",
       "    }\n",
       "</style>\n",
       "<table border=\"1\" class=\"dataframe\">\n",
       "  <thead>\n",
       "    <tr style=\"text-align: right;\">\n",
       "      <th></th>\n",
       "      <th>Model</th>\n",
       "      <th>Accuracy</th>\n",
       "      <th>Precision</th>\n",
       "      <th>Recall</th>\n",
       "      <th>F1</th>\n",
       "    </tr>\n",
       "  </thead>\n",
       "  <tbody>\n",
       "    <tr>\n",
       "      <th>0</th>\n",
       "      <td>SVM</td>\n",
       "      <td>0.457627</td>\n",
       "      <td>0.526944</td>\n",
       "      <td>0.457627</td>\n",
       "      <td>0.443024</td>\n",
       "    </tr>\n",
       "    <tr>\n",
       "      <th>1</th>\n",
       "      <td>RandomForestClassifier</td>\n",
       "      <td>0.881356</td>\n",
       "      <td>0.894307</td>\n",
       "      <td>0.881356</td>\n",
       "      <td>0.883557</td>\n",
       "    </tr>\n",
       "    <tr>\n",
       "      <th>2</th>\n",
       "      <td>MLPClassifier</td>\n",
       "      <td>0.889831</td>\n",
       "      <td>0.898739</td>\n",
       "      <td>0.889831</td>\n",
       "      <td>0.892077</td>\n",
       "    </tr>\n",
       "    <tr>\n",
       "      <th>3</th>\n",
       "      <td>KNeighborsClassifier</td>\n",
       "      <td>0.822034</td>\n",
       "      <td>0.824818</td>\n",
       "      <td>0.822034</td>\n",
       "      <td>0.822040</td>\n",
       "    </tr>\n",
       "  </tbody>\n",
       "</table>\n",
       "</div>"
      ],
      "text/plain": [
       "                    Model  Accuracy  Precision    Recall        F1\n",
       "0                     SVM  0.457627   0.526944  0.457627  0.443024\n",
       "1  RandomForestClassifier  0.881356   0.894307  0.881356  0.883557\n",
       "2           MLPClassifier  0.889831   0.898739  0.889831  0.892077\n",
       "3    KNeighborsClassifier  0.822034   0.824818  0.822034  0.822040"
      ]
     },
     "execution_count": 15,
     "metadata": {},
     "output_type": "execute_result"
    }
   ],
   "source": [
    "# k Nearest Neighbours\n",
    "\n",
    "# Set hyperparameters\n",
    "k = 4\n",
    "\n",
    "# Train model\n",
    "model_knn = KNeighborsClassifier(n_neighbors=k)\n",
    "model_knn.fit(train_X_features, train_y)\n",
    "\n",
    "# Predict on validation set\n",
    "pred_val_y = model_knn.predict(val_X_features)\n",
    "\n",
    "# Evaluate metrics\n",
    "knn_accuracy, knn_precision, knn_recall, knn_f1 = calculate_metrics(val_y, pred_val_y)\n",
    "\n",
    "results_df = pd.DataFrame({\n",
    "    'Model': ['SVM', 'RandomForestClassifier', 'MLPClassifier', 'KNeighborsClassifier'],\n",
    "    'Accuracy': [svm_accuracy, rfc_accuracy, nn_accuracy, knn_accuracy],\n",
    "    'Precision': [svm_precision, rfc_precision, nn_precision, knn_precision],\n",
    "    'Recall': [svm_recall, rfc_recall, nn_recall, knn_recall],\n",
    "    'F1': [svm_f1, rfc_f1, nn_f1, knn_f1]\n",
    "})\n",
    "results_df"
   ]
  }
 ],
 "metadata": {
  "kernelspec": {
   "display_name": "Python 3",
   "language": "python",
   "name": "python3"
  },
  "language_info": {
   "codemirror_mode": {
    "name": "ipython",
    "version": 3
   },
   "file_extension": ".py",
   "mimetype": "text/x-python",
   "name": "python",
   "nbconvert_exporter": "python",
   "pygments_lexer": "ipython3",
   "version": "3.11.0"
  }
 },
 "nbformat": 4,
 "nbformat_minor": 2
}
